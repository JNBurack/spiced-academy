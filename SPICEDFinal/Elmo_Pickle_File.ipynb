{
 "cells": [
  {
   "cell_type": "code",
   "execution_count": 1,
   "metadata": {},
   "outputs": [],
   "source": [
    "import pandas as pd\n",
    "import numpy as np\n",
    "import spacy\n",
    "from tqdm import tqdm\n",
    "import re\n",
    "import time\n",
    "import pickle\n",
    "import math\n",
    "import random\n",
    "import seaborn as sns\n",
    "import os\n",
    "import collections\n",
    "import smart_open\n",
    "import tensorflow_hub as hub\n",
    "import tensorflow as tf\n",
    "from sklearn.model_selection import train_test_split\n",
    "\n",
    "pd.set_option('display.max_colwidth', 200)"
   ]
  },
  {
   "cell_type": "code",
   "execution_count": 2,
   "metadata": {},
   "outputs": [],
   "source": [
    "newmoz = mozilla = pd.read_csv('/Users/justinburack/Downloads/bugs-2019-10-02.csv')"
   ]
  },
  {
   "cell_type": "code",
   "execution_count": 3,
   "metadata": {},
   "outputs": [],
   "source": [
    "mozilla = pd.read_csv('/Users/justinburack/Downloads/mozilla_firefox.csv')\n",
    "\n",
    "mozilla = mozilla[~mozilla['Priority'].isin(['--'])]\n",
    "priority = mozilla['Priority']\n",
    "\n",
    "mozilla = pd.DataFrame(mozilla.loc[:,'Title':'Description'])\n",
    "mozilla['Text'] = mozilla.loc[:,'Title'] + ' ' + mozilla.loc[:,'Description']\n",
    "mozilla = mozilla[~mozilla['Text'].isin(['nan'])]\n",
    "\n",
    "mozilla = pd.concat([mozilla, priority], axis=1)"
   ]
  },
  {
   "cell_type": "code",
   "execution_count": 4,
   "metadata": {},
   "outputs": [
    {
     "data": {
      "text/html": [
       "<div>\n",
       "<style scoped>\n",
       "    .dataframe tbody tr th:only-of-type {\n",
       "        vertical-align: middle;\n",
       "    }\n",
       "\n",
       "    .dataframe tbody tr th {\n",
       "        vertical-align: top;\n",
       "    }\n",
       "\n",
       "    .dataframe thead th {\n",
       "        text-align: right;\n",
       "    }\n",
       "</style>\n",
       "<table border=\"1\" class=\"dataframe\">\n",
       "  <thead>\n",
       "    <tr style=\"text-align: right;\">\n",
       "      <th></th>\n",
       "      <th>Title</th>\n",
       "      <th>Description</th>\n",
       "      <th>Text</th>\n",
       "      <th>Priority</th>\n",
       "    </tr>\n",
       "  </thead>\n",
       "  <tbody>\n",
       "    <tr>\n",
       "      <th>0</th>\n",
       "      <td>Dialup properties needs to be exposed in prefs</td>\n",
       "      <td>The dialup properties of the profile should be exposed in the prefs panels so; the user has an easy way to modify them.  The only other alternative would be to; make people go to the profile manag...</td>\n",
       "      <td>Dialup properties needs to be exposed in prefs The dialup properties of the profile should be exposed in the prefs panels so; the user has an easy way to modify them.  The only other alternative w...</td>\n",
       "      <td>P3</td>\n",
       "    </tr>\n",
       "    <tr>\n",
       "      <th>3</th>\n",
       "      <td>Language encodings in font prefs dialog not sorted</td>\n",
       "      <td>Language encodings are listed in a seemingly random order.; The order be alphabetical (and therefore change with localization).; As a special case; User-Defined should be last.</td>\n",
       "      <td>Language encodings in font prefs dialog not sorted Language encodings are listed in a seemingly random order.; The order be alphabetical (and therefore change with localization).; As a special cas...</td>\n",
       "      <td>P3</td>\n",
       "    </tr>\n",
       "    <tr>\n",
       "      <th>4</th>\n",
       "      <td>Synaptics touchpad scrolling not working</td>\n",
       "      <td>From Bugzilla Helper:; User-Agent: Mozilla/5.0 (Windows; U; Win95; en-US; m18) Gecko/20001010; BuildID:    2000101014; ; I am using a synaptics touch pad with the latest Win 98 driver V 5.0.86 AUg...</td>\n",
       "      <td>Synaptics touchpad scrolling not working From Bugzilla Helper:; User-Agent: Mozilla/5.0 (Windows; U; Win95; en-US; m18) Gecko/20001010; BuildID:    2000101014; ; I am using a synaptics touch pad w...</td>\n",
       "      <td>P3</td>\n",
       "    </tr>\n",
       "    <tr>\n",
       "      <th>6</th>\n",
       "      <td>Cookie Manager: Dont allow sites that set removed cookies to set future cookies  should stay checked/unchecked</td>\n",
       "      <td>From Bugzilla Helper:; User-Agent: Mozilla/4.0 (compatible; MSIE 5.5; Windows 95); BuildID:    2001040404; ; The state of the checkbox Dont allow removed cookies to be accepted later in ; the cook...</td>\n",
       "      <td>Cookie Manager: Dont allow sites that set removed cookies to set future cookies  should stay checked/unchecked From Bugzilla Helper:; User-Agent: Mozilla/4.0 (compatible; MSIE 5.5; Windows 95); Bu...</td>\n",
       "      <td>P3</td>\n",
       "    </tr>\n",
       "    <tr>\n",
       "      <th>7</th>\n",
       "      <td>Today History folder should be expanded by default</td>\n",
       "      <td>Build: 2001052115; Mac OS 9.1; ; To reproduce:; *   Open the History window.; *   Look at the `Today folder.; ; What you should see:; *   The folder should be expanded.; ; What you actually see:; ...</td>\n",
       "      <td>Today History folder should be expanded by default Build: 2001052115; Mac OS 9.1; ; To reproduce:; *   Open the History window.; *   Look at the `Today folder.; ; What you should see:; *   The fol...</td>\n",
       "      <td>P4</td>\n",
       "    </tr>\n",
       "  </tbody>\n",
       "</table>\n",
       "</div>"
      ],
      "text/plain": [
       "                                                                                                            Title  \\\n",
       "0                                                                  Dialup properties needs to be exposed in prefs   \n",
       "3                                                              Language encodings in font prefs dialog not sorted   \n",
       "4                                                                        Synaptics touchpad scrolling not working   \n",
       "6  Cookie Manager: Dont allow sites that set removed cookies to set future cookies  should stay checked/unchecked   \n",
       "7                                                              Today History folder should be expanded by default   \n",
       "\n",
       "                                                                                                                                                                                               Description  \\\n",
       "0  The dialup properties of the profile should be exposed in the prefs panels so; the user has an easy way to modify them.  The only other alternative would be to; make people go to the profile manag...   \n",
       "3                         Language encodings are listed in a seemingly random order.; The order be alphabetical (and therefore change with localization).; As a special case; User-Defined should be last.   \n",
       "4  From Bugzilla Helper:; User-Agent: Mozilla/5.0 (Windows; U; Win95; en-US; m18) Gecko/20001010; BuildID:    2000101014; ; I am using a synaptics touch pad with the latest Win 98 driver V 5.0.86 AUg...   \n",
       "6  From Bugzilla Helper:; User-Agent: Mozilla/4.0 (compatible; MSIE 5.5; Windows 95); BuildID:    2001040404; ; The state of the checkbox Dont allow removed cookies to be accepted later in ; the cook...   \n",
       "7  Build: 2001052115; Mac OS 9.1; ; To reproduce:; *   Open the History window.; *   Look at the `Today folder.; ; What you should see:; *   The folder should be expanded.; ; What you actually see:; ...   \n",
       "\n",
       "                                                                                                                                                                                                      Text  \\\n",
       "0  Dialup properties needs to be exposed in prefs The dialup properties of the profile should be exposed in the prefs panels so; the user has an easy way to modify them.  The only other alternative w...   \n",
       "3  Language encodings in font prefs dialog not sorted Language encodings are listed in a seemingly random order.; The order be alphabetical (and therefore change with localization).; As a special cas...   \n",
       "4  Synaptics touchpad scrolling not working From Bugzilla Helper:; User-Agent: Mozilla/5.0 (Windows; U; Win95; en-US; m18) Gecko/20001010; BuildID:    2000101014; ; I am using a synaptics touch pad w...   \n",
       "6  Cookie Manager: Dont allow sites that set removed cookies to set future cookies  should stay checked/unchecked From Bugzilla Helper:; User-Agent: Mozilla/4.0 (compatible; MSIE 5.5; Windows 95); Bu...   \n",
       "7  Today History folder should be expanded by default Build: 2001052115; Mac OS 9.1; ; To reproduce:; *   Open the History window.; *   Look at the `Today folder.; ; What you should see:; *   The fol...   \n",
       "\n",
       "  Priority  \n",
       "0       P3  \n",
       "3       P3  \n",
       "4       P3  \n",
       "6       P3  \n",
       "7       P4  "
      ]
     },
     "execution_count": 4,
     "metadata": {},
     "output_type": "execute_result"
    }
   ],
   "source": [
    "mozilla.head()"
   ]
  },
  {
   "cell_type": "code",
   "execution_count": 5,
   "metadata": {},
   "outputs": [
    {
     "data": {
      "text/plain": [
       "Index(['Title', 'Description', 'Text', 'Priority'], dtype='object')"
      ]
     },
     "execution_count": 5,
     "metadata": {},
     "output_type": "execute_result"
    }
   ],
   "source": [
    "mozilla.columns"
   ]
  },
  {
   "cell_type": "code",
   "execution_count": 6,
   "metadata": {},
   "outputs": [],
   "source": [
    "nlp = spacy.load('en_core_web_sm', disable=['parser', 'ner'])\n",
    "\n",
    "def lemmatize(word):\n",
    "    output = [token.lemma_ for token in nlp(word)]\n",
    "    return output[0]"
   ]
  },
  {
   "cell_type": "code",
   "execution_count": 7,
   "metadata": {},
   "outputs": [
    {
     "data": {
      "text/plain": [
       "'be'"
      ]
     },
     "execution_count": 7,
     "metadata": {},
     "output_type": "execute_result"
    }
   ],
   "source": [
    "lemmatize('am')"
   ]
  },
  {
   "cell_type": "code",
   "execution_count": 8,
   "metadata": {},
   "outputs": [],
   "source": [
    "def make_corpus(df):\n",
    "    \n",
    "    df = df[~df['Text'].isin(['nan'])]\n",
    "    text_df = df['Text']\n",
    "    #~df['Text'].isin(['nan'])]\n",
    "    raw_text = list(text_df)\n",
    "    print(raw_text[0])\n",
    "    \n",
    "    for item in raw_text:\n",
    "        if type(item) == float:\n",
    "            #NOTE: Keeping the 'nan's because there's a strong corellation\n",
    "            #raw_text.remove(item)\n",
    "            item = str(item)\n",
    "    \n",
    "    stopwords = ['i','me','my','myself','we','our','ours','ourselves','you','your','yours','yourself','yourselves','he','him','his','himself','she','her','hers','herself','it','its','itself','they','them','their','theirs','themselves','what','which','who','whom','this','that','these','those','am','is','are','was','were','be','been','being','have','has','had','having','do','does','did','doing','a','an','the','and','but','if','or','because','as','until','while','of','at','by','for','with','about','against','between','into','through','during','before','after','above','below','to','from','up','down','in','out','on','off','over','under','again','further','then','once','here','there','when','where','why','how','all','any','both','each','few','more','most','other','some','such','no','nor','not','only','own','same','so','than','too','very','s','t','can','will','just','don','should','now', ',', ';', ';;', ':;']\n",
    "    stopwords = set(stopwords)\n",
    "    \n",
    "    pattern1 = re.compile('[^A-Za-z0-9]([\\w+\\s]+)[^A-Za-z0-9]')\n",
    "    pattern2 = re.compile('([\\w+\\s]+)[^A-Za-z0-9]')\n",
    "    pattern3 = re.compile('[^A-Za-z0-9]([\\w+\\s]+)')\n",
    "    \n",
    "    sentence_list = []\n",
    "    \n",
    "    for sentence in raw_text[0:10000]:\n",
    "        sentence = str(sentence)\n",
    "        word_list = []\n",
    "        sentence = sentence.strip()\n",
    "        sentence = sentence.split()\n",
    "        #print(sentence)\n",
    "        for word in sentence:\n",
    "            if len(word) > 2:\n",
    "                if re.match(pattern1, word):\n",
    "                    word = re.sub(pattern1, '\\g<1>', word)\n",
    "                elif re.match(pattern2, word):\n",
    "                    word = re.sub(pattern2, '\\g<1>', word)\n",
    "                elif re.match(pattern3, word):\n",
    "                    word = re.sub(pattern3, '\\g<1>', word)\n",
    "                if (word.lower() not in stopwords) and (word.isalpha() == True) and (word != ' '):\n",
    "                    word = word.lower()\n",
    "                    word = lemmatize(word)\n",
    "                    word_list.append(word)\n",
    "        sentence_list.append(word_list)\n",
    "        #print(word_list)\n",
    "\n",
    "    return sentence_list"
   ]
  },
  {
   "cell_type": "code",
   "execution_count": 9,
   "metadata": {},
   "outputs": [],
   "source": [
    "def get_tf_idf_words(list):\n",
    "    \n",
    "    x = [item for sublist in list for item in sublist]\n",
    "    \n",
    "    counts = {}\n",
    "    for word in x:\n",
    "        if word in counts:\n",
    "            counts[word] += 1\n",
    "        else:\n",
    "            counts[word] = 1\n",
    "            \n",
    "    textunique = set(x)\n",
    "    \n",
    "    for key in counts:\n",
    "        counts[key] /= len(textunique)\n",
    "        \n",
    "    TFWords = []\n",
    "    for sentence in list:\n",
    "        sentencedict = {}\n",
    "        for word in sentence:\n",
    "            sentencedict[word] = counts[word]\n",
    "        TFWords.append(sentencedict)\n",
    "        \n",
    "    return TFWords"
   ]
  },
  {
   "cell_type": "code",
   "execution_count": 10,
   "metadata": {},
   "outputs": [],
   "source": [
    "def filter_tfidf(list, float):\n",
    "    \n",
    "    TFWordsTotal = get_tf_idf_words(list)\n",
    "    \n",
    "    TFWordsTotalNew = []\n",
    "\n",
    "    for document in TFWordsTotal:\n",
    "        #print(document)\n",
    "        document_dict = {}\n",
    "        for word in document:\n",
    "            #print(word)\n",
    "            if document[word] >= float:\n",
    "                document_dict[word] = document[word]\n",
    "        TFWordsTotalNew.append(document_dict)\n",
    "    return TFWordsTotalNew"
   ]
  },
  {
   "cell_type": "code",
   "execution_count": 11,
   "metadata": {},
   "outputs": [],
   "source": [
    "def unpack_corpus(list):\n",
    "    corpus = []\n",
    "    for document in list:\n",
    "        document = [k  for  k in  document]\n",
    "        corpus.append(document)\n",
    "    \n",
    "    return corpus"
   ]
  },
  {
   "cell_type": "code",
   "execution_count": 12,
   "metadata": {},
   "outputs": [],
   "source": [
    "def get_joined(list):\n",
    "    corpus = []\n",
    "\n",
    "    for item in list:\n",
    "        item = ' '.join(item)\n",
    "        corpus.append(item)\n",
    "    return corpus"
   ]
  },
  {
   "cell_type": "code",
   "execution_count": 13,
   "metadata": {},
   "outputs": [],
   "source": [
    "P1 = mozilla.loc[mozilla['Priority']=='P1']\n",
    "P2 = mozilla.loc[mozilla['Priority']=='P2']\n",
    "P3 = mozilla.loc[mozilla['Priority']=='P3']\n",
    "P4 = mozilla.loc[mozilla['Priority']=='P4']\n",
    "P5 = mozilla.loc[mozilla['Priority']=='P5']"
   ]
  },
  {
   "cell_type": "code",
   "execution_count": 14,
   "metadata": {},
   "outputs": [
    {
     "name": "stdout",
     "output_type": "stream",
     "text": [
      "Starting Customizing Toolbar makes the current page go blank [Build-ID: 2002-08-30-22]; ; As soon as I start Customize Toolbar; either by right-clicking on the toolbar or; by selecting it under the View menu; the current page goes blank (white).; ; Reproducable: always; ; Steps to reproduce:; ; 1) Go to a URL; 2) Open Customize Toolbar; ; Result: current page goes blank.\n",
      "[FIX]Not correctly retrieving post data when saving a page or frame generated from a form POST From Bugzilla Helper:; User-Agent: Mozilla/5.0 (X11; U; Linux 2.4.5-1mdk i586; en-US; rv:0.9+); Gecko/20010604; BuildID:    2001060421; ; Mozilla does not save the respond to a posted form correctly.; Instead of saving the posted reply; it saves the form.; ; Reproducible: Always; Steps to Reproduce:; 1.go to the referenced form; 2.type in a URL in the big text box (say http://www.mozilla.org); 3.push dumplinks; 4.The form correct displays the page source; 5. Now try saving the output; 6. You get the form itself and not the response; ; Actual Results:  You get the form output; ; Expected Results:  You should get the dumped page.  You do get that in netscape\n",
      "Dialup properties needs to be exposed in prefs The dialup properties of the profile should be exposed in the prefs panels so; the user has an easy way to modify them.  The only other alternative would be to; make people go to the profile manager to edit them; but we dont have that in; place either.  Lets try the prefs panel approach first.\n",
      "Today History folder should be expanded by default Build: 2001052115; Mac OS 9.1; ; To reproduce:; *   Open the History window.; *   Look at the `Today folder.; ; What you should see:; *   The folder should be expanded.; ; What you actually see:; *   The folder is collapsed.\n",
      "Port patch to bug 164006 (wyciwyg: in tab titles) Phoenix is missing the patch for bug 164006.  It touches tabbrowser and friends;; can you check it out and see if its a good patch?  And bring it over if so?\n"
     ]
    }
   ],
   "source": [
    "P1_corpus = make_corpus(P1[:150])\n",
    "P2_corpus = make_corpus(P2[:150])\n",
    "P3_corpus = make_corpus(P3[:150])\n",
    "P4_corpus = make_corpus(P4[:150])\n",
    "P5_corpus = make_corpus(P5[:150])"
   ]
  },
  {
   "cell_type": "code",
   "execution_count": 15,
   "metadata": {},
   "outputs": [],
   "source": [
    "mozilla = P1_corpus[:150] + P2_corpus[:150] + P3_corpus[:150] + P4_corpus[:150] + P5_corpus[:150]"
   ]
  },
  {
   "cell_type": "code",
   "execution_count": 16,
   "metadata": {},
   "outputs": [],
   "source": [
    "joined_moz = get_joined(mozilla)"
   ]
  },
  {
   "cell_type": "code",
   "execution_count": 17,
   "metadata": {},
   "outputs": [],
   "source": [
    "labels = ['P1', 'P2', 'P3', 'P4', 'P5']\n",
    "\n",
    "keys = []\n",
    "for item in labels:\n",
    "    key = []\n",
    "    for i in range(150):\n",
    "        key.append(item)\n",
    "        \n",
    "    keys.append(key)\n",
    "    \n",
    "keys = [item for sublist in keys for item in sublist]"
   ]
  },
  {
   "cell_type": "code",
   "execution_count": 18,
   "metadata": {},
   "outputs": [],
   "source": [
    "X = joined_moz\n",
    "y = keys"
   ]
  },
  {
   "cell_type": "code",
   "execution_count": 19,
   "metadata": {},
   "outputs": [],
   "source": [
    "X_train, X_test, y_train, y_test = train_test_split(X, y, test_size=.2)"
   ]
  },
  {
   "cell_type": "code",
   "execution_count": 20,
   "metadata": {},
   "outputs": [],
   "source": [
    "elmo = hub.Module(\"https://tfhub.dev/google/elmo/2\", trainable=True)"
   ]
  },
  {
   "cell_type": "code",
   "execution_count": 21,
   "metadata": {},
   "outputs": [
    {
     "name": "stdout",
     "output_type": "stream",
     "text": [
      "INFO:tensorflow:Saver not created because there are no variables in the graph to restore\n"
     ]
    },
    {
     "name": "stderr",
     "output_type": "stream",
     "text": [
      "INFO:tensorflow:Saver not created because there are no variables in the graph to restore\n"
     ]
    },
    {
     "data": {
      "text/plain": [
       "TensorShape([Dimension(1), Dimension(8), Dimension(1024)])"
      ]
     },
     "execution_count": 21,
     "metadata": {},
     "output_type": "execute_result"
    }
   ],
   "source": [
    "# just a random sentence\n",
    "x = [\"Roasted ants are a popular snack in Columbia\"]\n",
    "\n",
    "# Extract ELMo features \n",
    "embeddings = elmo(x, signature=\"default\", as_dict=True)[\"elmo\"]\n",
    "\n",
    "embeddings.shape"
   ]
  },
  {
   "cell_type": "code",
   "execution_count": 22,
   "metadata": {},
   "outputs": [],
   "source": [
    "def elmo_vectors(x):\n",
    "    embeddings = elmo(x, signature=\"default\", as_dict=True)[\"elmo\"]\n",
    "\n",
    "    \n",
    "    with tf.Session() as sess:\n",
    "        try:\n",
    "            sess.run(tf.global_variables_initializer())\n",
    "            sess.run(tf.tables_initializer())\n",
    "            # return average of ELMo features\n",
    "            return sess.run(tf.reduce_mean(embeddings,1))\n",
    "        except ValueError:\n",
    "            print('End of dataset')\n",
    "            sess.close()"
   ]
  },
  {
   "cell_type": "code",
   "execution_count": 23,
   "metadata": {},
   "outputs": [],
   "source": [
    "list_train = [X_train[i:i+10] for i in range(0,len(X_train),10)]"
   ]
  },
  {
   "cell_type": "code",
   "execution_count": 24,
   "metadata": {},
   "outputs": [],
   "source": [
    "list_test = [X_test[i:i+10] for i in range(0,len(X_test),10)]"
   ]
  },
  {
   "cell_type": "code",
   "execution_count": null,
   "metadata": {},
   "outputs": [
    {
     "name": "stdout",
     "output_type": "stream",
     "text": [
      "INFO:tensorflow:Saver not created because there are no variables in the graph to restore\n"
     ]
    },
    {
     "name": "stderr",
     "output_type": "stream",
     "text": [
      "INFO:tensorflow:Saver not created because there are no variables in the graph to restore\n"
     ]
    },
    {
     "name": "stdout",
     "output_type": "stream",
     "text": [
      "INFO:tensorflow:Saver not created because there are no variables in the graph to restore\n"
     ]
    },
    {
     "name": "stderr",
     "output_type": "stream",
     "text": [
      "INFO:tensorflow:Saver not created because there are no variables in the graph to restore\n"
     ]
    },
    {
     "name": "stdout",
     "output_type": "stream",
     "text": [
      "INFO:tensorflow:Saver not created because there are no variables in the graph to restore\n"
     ]
    },
    {
     "name": "stderr",
     "output_type": "stream",
     "text": [
      "INFO:tensorflow:Saver not created because there are no variables in the graph to restore\n"
     ]
    },
    {
     "name": "stdout",
     "output_type": "stream",
     "text": [
      "INFO:tensorflow:Saver not created because there are no variables in the graph to restore\n"
     ]
    },
    {
     "name": "stderr",
     "output_type": "stream",
     "text": [
      "INFO:tensorflow:Saver not created because there are no variables in the graph to restore\n"
     ]
    },
    {
     "name": "stdout",
     "output_type": "stream",
     "text": [
      "INFO:tensorflow:Saver not created because there are no variables in the graph to restore\n"
     ]
    },
    {
     "name": "stderr",
     "output_type": "stream",
     "text": [
      "INFO:tensorflow:Saver not created because there are no variables in the graph to restore\n"
     ]
    },
    {
     "name": "stdout",
     "output_type": "stream",
     "text": [
      "INFO:tensorflow:Saver not created because there are no variables in the graph to restore\n"
     ]
    },
    {
     "name": "stderr",
     "output_type": "stream",
     "text": [
      "INFO:tensorflow:Saver not created because there are no variables in the graph to restore\n"
     ]
    },
    {
     "name": "stdout",
     "output_type": "stream",
     "text": [
      "INFO:tensorflow:Saver not created because there are no variables in the graph to restore\n"
     ]
    },
    {
     "name": "stderr",
     "output_type": "stream",
     "text": [
      "INFO:tensorflow:Saver not created because there are no variables in the graph to restore\n"
     ]
    },
    {
     "name": "stdout",
     "output_type": "stream",
     "text": [
      "INFO:tensorflow:Saver not created because there are no variables in the graph to restore\n"
     ]
    },
    {
     "name": "stderr",
     "output_type": "stream",
     "text": [
      "INFO:tensorflow:Saver not created because there are no variables in the graph to restore\n"
     ]
    },
    {
     "name": "stdout",
     "output_type": "stream",
     "text": [
      "INFO:tensorflow:Saver not created because there are no variables in the graph to restore\n"
     ]
    },
    {
     "name": "stderr",
     "output_type": "stream",
     "text": [
      "INFO:tensorflow:Saver not created because there are no variables in the graph to restore\n"
     ]
    },
    {
     "name": "stdout",
     "output_type": "stream",
     "text": [
      "INFO:tensorflow:Saver not created because there are no variables in the graph to restore\n"
     ]
    },
    {
     "name": "stderr",
     "output_type": "stream",
     "text": [
      "INFO:tensorflow:Saver not created because there are no variables in the graph to restore\n"
     ]
    },
    {
     "name": "stdout",
     "output_type": "stream",
     "text": [
      "INFO:tensorflow:Saver not created because there are no variables in the graph to restore\n"
     ]
    },
    {
     "name": "stderr",
     "output_type": "stream",
     "text": [
      "INFO:tensorflow:Saver not created because there are no variables in the graph to restore\n"
     ]
    },
    {
     "name": "stdout",
     "output_type": "stream",
     "text": [
      "INFO:tensorflow:Saver not created because there are no variables in the graph to restore\n"
     ]
    },
    {
     "name": "stderr",
     "output_type": "stream",
     "text": [
      "INFO:tensorflow:Saver not created because there are no variables in the graph to restore\n"
     ]
    },
    {
     "name": "stdout",
     "output_type": "stream",
     "text": [
      "INFO:tensorflow:Saver not created because there are no variables in the graph to restore\n"
     ]
    },
    {
     "name": "stderr",
     "output_type": "stream",
     "text": [
      "INFO:tensorflow:Saver not created because there are no variables in the graph to restore\n"
     ]
    },
    {
     "name": "stdout",
     "output_type": "stream",
     "text": [
      "INFO:tensorflow:Saver not created because there are no variables in the graph to restore\n"
     ]
    },
    {
     "name": "stderr",
     "output_type": "stream",
     "text": [
      "INFO:tensorflow:Saver not created because there are no variables in the graph to restore\n"
     ]
    },
    {
     "name": "stdout",
     "output_type": "stream",
     "text": [
      "INFO:tensorflow:Saver not created because there are no variables in the graph to restore\n"
     ]
    },
    {
     "name": "stderr",
     "output_type": "stream",
     "text": [
      "INFO:tensorflow:Saver not created because there are no variables in the graph to restore\n"
     ]
    },
    {
     "name": "stdout",
     "output_type": "stream",
     "text": [
      "INFO:tensorflow:Saver not created because there are no variables in the graph to restore\n"
     ]
    },
    {
     "name": "stderr",
     "output_type": "stream",
     "text": [
      "INFO:tensorflow:Saver not created because there are no variables in the graph to restore\n"
     ]
    },
    {
     "name": "stdout",
     "output_type": "stream",
     "text": [
      "INFO:tensorflow:Saver not created because there are no variables in the graph to restore\n"
     ]
    },
    {
     "name": "stderr",
     "output_type": "stream",
     "text": [
      "INFO:tensorflow:Saver not created because there are no variables in the graph to restore\n"
     ]
    },
    {
     "name": "stdout",
     "output_type": "stream",
     "text": [
      "INFO:tensorflow:Saver not created because there are no variables in the graph to restore\n"
     ]
    },
    {
     "name": "stderr",
     "output_type": "stream",
     "text": [
      "INFO:tensorflow:Saver not created because there are no variables in the graph to restore\n"
     ]
    },
    {
     "name": "stdout",
     "output_type": "stream",
     "text": [
      "INFO:tensorflow:Saver not created because there are no variables in the graph to restore\n"
     ]
    },
    {
     "name": "stderr",
     "output_type": "stream",
     "text": [
      "INFO:tensorflow:Saver not created because there are no variables in the graph to restore\n"
     ]
    },
    {
     "name": "stdout",
     "output_type": "stream",
     "text": [
      "INFO:tensorflow:Saver not created because there are no variables in the graph to restore\n"
     ]
    },
    {
     "name": "stderr",
     "output_type": "stream",
     "text": [
      "INFO:tensorflow:Saver not created because there are no variables in the graph to restore\n"
     ]
    },
    {
     "name": "stdout",
     "output_type": "stream",
     "text": [
      "INFO:tensorflow:Saver not created because there are no variables in the graph to restore\n"
     ]
    },
    {
     "name": "stderr",
     "output_type": "stream",
     "text": [
      "INFO:tensorflow:Saver not created because there are no variables in the graph to restore\n"
     ]
    },
    {
     "name": "stdout",
     "output_type": "stream",
     "text": [
      "INFO:tensorflow:Saver not created because there are no variables in the graph to restore\n"
     ]
    },
    {
     "name": "stderr",
     "output_type": "stream",
     "text": [
      "INFO:tensorflow:Saver not created because there are no variables in the graph to restore\n"
     ]
    }
   ],
   "source": [
    "# Extract ELMo embeddings\n",
    "elmo_train = [elmo_vectors(x) for x in list_train]"
   ]
  },
  {
   "cell_type": "code",
   "execution_count": null,
   "metadata": {},
   "outputs": [],
   "source": [
    "len(elmo_train[0]), len(elmo_train)"
   ]
  },
  {
   "cell_type": "code",
   "execution_count": null,
   "metadata": {},
   "outputs": [],
   "source": [
    "elmo_test = [elmo_vectors(x) for x in list_test]"
   ]
  },
  {
   "cell_type": "code",
   "execution_count": null,
   "metadata": {},
   "outputs": [],
   "source": [
    "len(elmo_test)"
   ]
  },
  {
   "cell_type": "code",
   "execution_count": null,
   "metadata": {},
   "outputs": [],
   "source": [
    "elmo_train_new = np.concatenate(elmo_train, axis = 0)"
   ]
  },
  {
   "cell_type": "code",
   "execution_count": null,
   "metadata": {},
   "outputs": [],
   "source": [
    "elmo_test_new = np.concatenate(elmo_test, axis = 0)"
   ]
  },
  {
   "cell_type": "code",
   "execution_count": null,
   "metadata": {},
   "outputs": [],
   "source": [
    "# save elmo_train_new\n",
    "pickle_out = open(\"elmo_train_03032019.pickle\",\"wb\")\n",
    "pickle.dump(elmo_train_new, pickle_out)\n",
    "pickle_out.close()"
   ]
  },
  {
   "cell_type": "code",
   "execution_count": null,
   "metadata": {},
   "outputs": [],
   "source": [
    "# save elmo_test_new\n",
    "pickle_out = open(\"elmo_test_03032019.pickle\",\"wb\")\n",
    "pickle.dump(elmo_test_new, pickle_out)\n",
    "pickle_out.close()"
   ]
  },
  {
   "cell_type": "code",
   "execution_count": null,
   "metadata": {},
   "outputs": [],
   "source": []
  }
 ],
 "metadata": {
  "kernelspec": {
   "display_name": "Python 3",
   "language": "python",
   "name": "python3"
  },
  "language_info": {
   "codemirror_mode": {
    "name": "ipython",
    "version": 3
   },
   "file_extension": ".py",
   "mimetype": "text/x-python",
   "name": "python",
   "nbconvert_exporter": "python",
   "pygments_lexer": "ipython3",
   "version": "3.7.3"
  }
 },
 "nbformat": 4,
 "nbformat_minor": 2
}
