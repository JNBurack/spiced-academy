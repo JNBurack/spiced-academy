{
 "cells": [
  {
   "cell_type": "markdown",
   "metadata": {},
   "source": [
    "## SPICED Academy, Week 10: Supermarket Churn with Markov Chains"
   ]
  },
  {
   "cell_type": "markdown",
   "metadata": {},
   "source": [
    "This project demonstrates in-depth knowledge of Hidden Markov Chains in the context of a real-world business problem. \n",
    "\n",
    "A probability matrix was dynamically generated from a labeled dataset of customers that documented time spent in each supermarket section up to and including checkout. To achieve the results seen below, the original CSV was processed in a separate file and was accessed by importing the Python class \"Supermarket\". In the exploratory data analysis phase, specific customer segments, trends in movement between supermarket sections, and revenue data was generated. A Markov Chain was then hardcoded in Python and used to make predictions from randomly-generated customer data.\n",
    "\n",
    "All code will be progressively reworked so it uses Numpy format whenever possible."
   ]
  },
  {
   "cell_type": "code",
   "execution_count": null,
   "metadata": {},
   "outputs": [],
   "source": [
    "import pandas as pd\n",
    "import numpy as np\n",
    "import matplotlib.pyplot as plt\n",
    "from datetime import timedelta\n",
    "from Supermarket import Supermarket"
   ]
  },
  {
   "cell_type": "code",
   "execution_count": null,
   "metadata": {},
   "outputs": [],
   "source": [
    "s = Supermarket()"
   ]
  },
  {
   "cell_type": "code",
   "execution_count": null,
   "metadata": {},
   "outputs": [],
   "source": [
    "supermarket = s.supermarket"
   ]
  },
  {
   "cell_type": "code",
   "execution_count": null,
   "metadata": {},
   "outputs": [],
   "source": [
    "super_list = []\n",
    "\n",
    "for day in supermarket:\n",
    "    day = pd.concat(day)\n",
    "    super_list.append(day)"
   ]
  },
  {
   "cell_type": "markdown",
   "metadata": {},
   "source": [
    "#### Calculate the total number of customers in each section over time"
   ]
  },
  {
   "cell_type": "code",
   "execution_count": null,
   "metadata": {},
   "outputs": [],
   "source": [
    "count_list = []\n",
    "\n",
    "for day in super_list:\n",
    "    day['customer_no'] = day['customer_no'].astype('category')\n",
    "    day = day.groupby(['timestamp', 'location'])['customer_no'].count()\n",
    "    count_list.append(day)"
   ]
  },
  {
   "cell_type": "markdown",
   "metadata": {},
   "source": [
    "#### Display the number of customers at checkout over time"
   ]
  },
  {
   "cell_type": "code",
   "execution_count": null,
   "metadata": {},
   "outputs": [],
   "source": [
    "for day in count_list:\n",
    "    day = day.unstack(1)\n",
    "    plt.plot(day['checkout'].resample('h').count())\n",
    "    plt.show()"
   ]
  },
  {
   "cell_type": "markdown",
   "metadata": {},
   "source": [
    "#### Calculate the time each customer spent in the market"
   ]
  },
  {
   "cell_type": "code",
   "execution_count": null,
   "metadata": {},
   "outputs": [],
   "source": [
    "diffs_all = []\n",
    "\n",
    "for day in supermarket:\n",
    "    diffs = []\n",
    "    for df in day:\n",
    "        df = df.reset_index()\n",
    "        print(df)\n",
    "        print('max', df['timestamp'].max())\n",
    "        print('min', df['timestamp'].min())\n",
    "        \n",
    "        diff = df['timestamp'].max() - df['timestamp'].min()\n",
    "        diffs.append(diff)\n",
    "    diffs_all.append(diffs)"
   ]
  },
  {
   "cell_type": "code",
   "execution_count": null,
   "metadata": {},
   "outputs": [],
   "source": [
    "diffs_all[0][0:5] # Time spent in store by first 5 customers on Monday"
   ]
  },
  {
   "cell_type": "markdown",
   "metadata": {},
   "source": [
    "#### Calculate the total number of customers present in the supermarket over time."
   ]
  },
  {
   "cell_type": "code",
   "execution_count": null,
   "metadata": {},
   "outputs": [],
   "source": [
    "new_count_list = []\n",
    "\n",
    "for day in super_list:\n",
    "    day['customer_no'] = day['customer_no'].astype('category')\n",
    "    day = day[day['location'] != 'checkout']\n",
    "    day = day.groupby(['timestamp', 'location'])['customer_no'].count()\n",
    "    day = day.unstack(1)\n",
    "    day['total'] = day.sum(axis=1)\n",
    "    new_count_list.append(day)"
   ]
  },
  {
   "cell_type": "code",
   "execution_count": null,
   "metadata": {},
   "outputs": [],
   "source": [
    "new_count_list[0]"
   ]
  },
  {
   "cell_type": "code",
   "execution_count": null,
   "metadata": {},
   "outputs": [],
   "source": [
    "super_list[0]"
   ]
  },
  {
   "cell_type": "markdown",
   "metadata": {},
   "source": [
    "#### Our business managers think that the first section customers visit follows a different pattern than the following ones. Plot the distribution of customers of their first visited section versus following sections (treat all sections visited after the first as “following”)."
   ]
  },
  {
   "cell_type": "code",
   "execution_count": null,
   "metadata": {},
   "outputs": [],
   "source": [
    "# Go through each customer separately in s.supermarket\n",
    "# Label first 'location' as 'f{location_first} first'\n",
    "    # set local variable 'location_first'\n",
    "    # if 'location' == 'location_first': // df['is first'] = 'f{location_first} first'\n",
    "    # else: \n",
    "        # for index, row in df.iterrows():\n",
    "            # df['is first'] = 'f{location_first} next'\n",
    "# Label all subsequent 'location' as 'f{location_first} next'\n",
    "# Add new column with new data\n",
    "# Concatenate all customers per day\n",
    "# Make one pie chart for 'f{location} first' vs 'f{location} next', per day\n",
    "# Visualize each pie chart"
   ]
  },
  {
   "cell_type": "code",
   "execution_count": null,
   "metadata": {},
   "outputs": [],
   "source": [
    "sam = s.supermarket[0][0]"
   ]
  },
  {
   "cell_type": "code",
   "execution_count": null,
   "metadata": {},
   "outputs": [],
   "source": [
    "sam"
   ]
  },
  {
   "cell_type": "code",
   "execution_count": null,
   "metadata": {},
   "outputs": [],
   "source": [
    "sam = sam.reset_index()\n",
    "location_first = sam['location'][0]\n",
    "location_first"
   ]
  },
  {
   "cell_type": "code",
   "execution_count": null,
   "metadata": {},
   "outputs": [],
   "source": [
    "sam['is first'] = 0"
   ]
  },
  {
   "cell_type": "code",
   "execution_count": null,
   "metadata": {},
   "outputs": [],
   "source": [
    "for index, row in sam.iterrows():\n",
    "    if sam['location'][index] == location_first:\n",
    "        sam['is first'][index] = f'{location_first} first'"
   ]
  },
  {
   "cell_type": "code",
   "execution_count": null,
   "metadata": {},
   "outputs": [],
   "source": [
    "sam"
   ]
  },
  {
   "cell_type": "code",
   "execution_count": null,
   "metadata": {},
   "outputs": [],
   "source": [
    "for index, row in sam.iterrows():\n",
    "    if sam['is first'][index] == 0:\n",
    "        sam['is first'][index] = f'{location_first} next'"
   ]
  },
  {
   "cell_type": "code",
   "execution_count": null,
   "metadata": {},
   "outputs": [],
   "source": [
    "sam"
   ]
  },
  {
   "cell_type": "code",
   "execution_count": null,
   "metadata": {
    "scrolled": true
   },
   "outputs": [],
   "source": [
    "for day in supermarket:\n",
    "    for df in day:\n",
    "        location_first = df['location'][0]\n",
    "        df['is first'] = 0\n",
    "        for index, row in df.iterrows():\n",
    "            if df['location'][index] == location_first:\n",
    "                df['is first'][index] = f'{location_first} first'\n",
    "            else:\n",
    "                break\n",
    "    print(f'********{day} FINISHED********')"
   ]
  },
  {
   "cell_type": "code",
   "execution_count": null,
   "metadata": {
    "scrolled": false
   },
   "outputs": [],
   "source": [
    "for day in supermarket:\n",
    "    for df in day:\n",
    "        location_first = df['location'][0]\n",
    "        for index, row in df.iterrows():\n",
    "            if df['is first'][index] == 0:\n",
    "                df['is first'][index] = f'{location_first} next'\n",
    "                #print('***CHANGED***')\n",
    "    print(f'*********{day} FINISHED********')"
   ]
  },
  {
   "cell_type": "code",
   "execution_count": null,
   "metadata": {},
   "outputs": [],
   "source": [
    "supermarket[0]"
   ]
  },
  {
   "cell_type": "code",
   "execution_count": null,
   "metadata": {},
   "outputs": [],
   "source": [
    "supermarket_list = []\n",
    "\n",
    "for day in supermarket:\n",
    "    dataframe = pd.concat(day)\n",
    "    supermarket_list.append(dataframe)"
   ]
  },
  {
   "cell_type": "code",
   "execution_count": null,
   "metadata": {},
   "outputs": [],
   "source": [
    "supermarket_list[0].groupby('is first')['location'].count()"
   ]
  },
  {
   "cell_type": "code",
   "execution_count": null,
   "metadata": {},
   "outputs": [],
   "source": [
    "total_supermarket_df = pd.concat(supermarket_list)"
   ]
  },
  {
   "cell_type": "code",
   "execution_count": null,
   "metadata": {},
   "outputs": [],
   "source": [
    "grouped_by = total_supermarket_df.groupby('is first')['location'].count()"
   ]
  },
  {
   "cell_type": "code",
   "execution_count": null,
   "metadata": {},
   "outputs": [],
   "source": [
    "grouped_by"
   ]
  },
  {
   "cell_type": "code",
   "execution_count": null,
   "metadata": {},
   "outputs": [],
   "source": [
    "labels = ['dairy first', 'dairy next']\n",
    "sizes = [11789, 17052]\n",
    "explode = (0.1, 0)  # only \"explode\" the 2nd slice (i.e. 'Hogs')\n",
    "\n",
    "fig1, ax1 = plt.subplots()\n",
    "ax1.pie(sizes, explode=explode, labels=labels, autopct='%1.1f%%',\n",
    "        shadow=True, startangle=90)\n",
    "ax1.axis('equal')  # Equal aspect ratio ensures that pie is drawn as a circle.\n",
    "\n",
    "plt.show()\n",
    "\n",
    "labels = ['drinks first', 'drinks next']\n",
    "sizes = [3566, 6339]\n",
    "explode = (0.1, 0)  # only \"explode\" the 2nd slice (i.e. 'Hogs')\n",
    "\n",
    "fig1, ax1 = plt.subplots()\n",
    "ax1.pie(sizes, explode=explode, labels=labels, autopct='%1.1f%%',\n",
    "        shadow=True, startangle=90)\n",
    "ax1.axis('equal')  # Equal aspect ratio ensures that pie is drawn as a circle.\n",
    "\n",
    "plt.show()\n",
    "\n",
    "labels = ['fruit first', 'fruit next']\n",
    "sizes = [8837, 19722]\n",
    "explode = (0.1, 0)  # only \"explode\" the 2nd slice (i.e. 'Hogs')\n",
    "\n",
    "fig1, ax1 = plt.subplots()\n",
    "ax1.pie(sizes, explode=explode, labels=labels, autopct='%1.1f%%',\n",
    "        shadow=True, startangle=90)\n",
    "ax1.axis('equal')  # Equal aspect ratio ensures that pie is drawn as a circle.\n",
    "\n",
    "plt.show()\n",
    "\n",
    "labels = ['spices first', 'spices next']\n",
    "sizes = [2653, 13473]\n",
    "explode = (0.1, 0)  # only \"explode\" the 2nd slice (i.e. 'Hogs')\n",
    "\n",
    "fig1, ax1 = plt.subplots()\n",
    "ax1.pie(sizes, explode=explode, labels=labels, autopct='%1.1f%%',\n",
    "        shadow=True, startangle=90)\n",
    "ax1.axis('equal')  # Equal aspect ratio ensures that pie is drawn as a circle.\n",
    "\n",
    "plt.show()"
   ]
  },
  {
   "cell_type": "markdown",
   "metadata": {},
   "source": [
    "#### Estimate the total revenue for a customer value using the following table:"
   ]
  },
  {
   "cell_type": "code",
   "execution_count": null,
   "metadata": {},
   "outputs": [],
   "source": [
    "# Convert each timestamp to 30.0\n",
    "for day in supermarket_list:\n",
    "    day['time_spent'] = 30\n",
    "\n",
    "#multiply each sum by value in table\n",
    "    # for index, row in df.iterrows: //if index[1] == 'spices':\n",
    "        #round((seconds * 3.0) / 60), 2)\n",
    "# append sums to table"
   ]
  },
  {
   "cell_type": "code",
   "execution_count": null,
   "metadata": {},
   "outputs": [],
   "source": [
    "# take .sum() of the 30's by 'location' using groupby\n",
    "min_groups = []\n",
    "\n",
    "for num in range(5):\n",
    "    min_group = (supermarket_list[num].groupby('location')['time_spent'].sum())/60\n",
    "    min_groups.append(min_group)"
   ]
  },
  {
   "cell_type": "code",
   "execution_count": null,
   "metadata": {},
   "outputs": [],
   "source": [
    "min_groups[0]"
   ]
  },
  {
   "cell_type": "code",
   "execution_count": null,
   "metadata": {},
   "outputs": [],
   "source": [
    "#multiply each sum by value in table\n",
    "for num in range(5):\n",
    "    min_groups[num]['dairy'] = (min_groups[num]['dairy'] * 5)\n",
    "    min_groups[num]['drinks'] = (min_groups[num]['drinks'] * 6)\n",
    "    min_groups[num]['fruit'] = (min_groups[num]['fruit'] * 4)\n",
    "    min_groups[num]['spices'] = (min_groups[num]['spices'] * 3)   "
   ]
  },
  {
   "cell_type": "code",
   "execution_count": null,
   "metadata": {},
   "outputs": [],
   "source": [
    "revenue_totals = min_groups"
   ]
  },
  {
   "cell_type": "code",
   "execution_count": null,
   "metadata": {},
   "outputs": [],
   "source": [
    "revenue_totals[0]"
   ]
  },
  {
   "cell_type": "code",
   "execution_count": null,
   "metadata": {},
   "outputs": [],
   "source": [
    "from functools import reduce\n",
    "\n",
    "d = reduce(lambda x, y: x.add(y, fill_value=0), revenue_totals)"
   ]
  },
  {
   "cell_type": "markdown",
   "metadata": {},
   "source": [
    "#### Which is the most profitable section according to your data?"
   ]
  },
  {
   "cell_type": "code",
   "execution_count": null,
   "metadata": {},
   "outputs": [],
   "source": [
    "# Take the max of previous answer"
   ]
  },
  {
   "cell_type": "code",
   "execution_count": null,
   "metadata": {},
   "outputs": [],
   "source": [
    "d.idxmax(axis=0, skipna=True)"
   ]
  },
  {
   "cell_type": "markdown",
   "metadata": {},
   "source": [
    "### 5. Simulate a single customer\n",
    "#### Write a program that uses a transition probability matrix to simulate the journey of a single customer through the market. Use a Markov model to represent the state of a customer. Use one- minute time intervals for the transitions. Once a customer reaches the checkout, consider them “churned” – do not simulate them any longer.\n",
    "• Print all state changes\n",
    "• Set the transition probabilities manually\n",
    "• Later add the probabilities extracted from the data\n",
    "• Extend the model to use separate probabilities for the first location\n",
    "• Implement the customer as a class"
   ]
  },
  {
   "cell_type": "code",
   "execution_count": null,
   "metadata": {},
   "outputs": [],
   "source": [
    "sam"
   ]
  },
  {
   "cell_type": "code",
   "execution_count": null,
   "metadata": {},
   "outputs": [],
   "source": [
    "sam['shift'] = sam['location'].shift(1)"
   ]
  },
  {
   "cell_type": "code",
   "execution_count": null,
   "metadata": {},
   "outputs": [],
   "source": [
    "sam.iloc[0]['shift'] = 'checkout'"
   ]
  },
  {
   "cell_type": "code",
   "execution_count": null,
   "metadata": {},
   "outputs": [],
   "source": [
    "sam"
   ]
  },
  {
   "cell_type": "code",
   "execution_count": null,
   "metadata": {},
   "outputs": [],
   "source": [
    "sam1 = sam"
   ]
  },
  {
   "cell_type": "code",
   "execution_count": null,
   "metadata": {
    "scrolled": true
   },
   "outputs": [],
   "source": [
    "sam1"
   ]
  },
  {
   "cell_type": "code",
   "execution_count": null,
   "metadata": {},
   "outputs": [],
   "source": [
    "real_count = sam1.reset_index().groupby(['shift', 'location'])['timestamp'].count().unstack()"
   ]
  },
  {
   "cell_type": "code",
   "execution_count": null,
   "metadata": {},
   "outputs": [],
   "source": [
    "real_count"
   ]
  },
  {
   "cell_type": "code",
   "execution_count": null,
   "metadata": {},
   "outputs": [],
   "source": [
    "real_proba = real_count.apply(lambda row: row / row.sum(), axis=1)"
   ]
  },
  {
   "cell_type": "code",
   "execution_count": null,
   "metadata": {},
   "outputs": [],
   "source": [
    "product = len(real_proba)*len(real_proba.columns)"
   ]
  },
  {
   "cell_type": "code",
   "execution_count": null,
   "metadata": {},
   "outputs": [],
   "source": [
    "real_proba = real_count.apply(lambda row: row / row.sum(), axis=1)"
   ]
  },
  {
   "cell_type": "code",
   "execution_count": null,
   "metadata": {},
   "outputs": [],
   "source": [
    "real_proba"
   ]
  },
  {
   "cell_type": "code",
   "execution_count": null,
   "metadata": {},
   "outputs": [],
   "source": [
    "class Customer(Supermarket):\n",
    "    \n",
    "    def __init__(self):\n",
    "        self.location\n",
    "        self.id\n",
    "        self.timestamp\n",
    "        \n",
    "    def get_location(self, timestamp):\n",
    "        pass\n",
    "        return location\n",
    "    \n",
    "    def get_first(self, id):\n",
    "        pass\n",
    "        return first\n",
    "        \n",
    "    def get_following(self, id, location): # this will run, or be part of, the simulation\n",
    "        pass\n",
    "        return following\n",
    "    \n",
    "    def get_proba(self):\n",
    "        pass\n",
    "        return proba"
   ]
  },
  {
   "cell_type": "markdown",
   "metadata": {},
   "source": [
    "#### We would like to analyze how customers switch between sections of the supermarket. Calculate and visualize the probability of transitions from section A to B by counting all observed transitions.\n",
    "\n",
    "#### E.g. if a customer was in the fruit section, later in the spices section, and went back to fruit, we observe two transitions: fruit → spices and spices → fruit .\n",
    "The checkout is a special terminal state, from which customers cannot leave.\n",
    "\n",
    "* Draw a state diagram\n",
    "* Display the transition probability matrix\n",
    "* Visualize the probabilities using an aproppriate library (consider NetworkX or PyGraphViz)"
   ]
  },
  {
   "cell_type": "code",
   "execution_count": null,
   "metadata": {},
   "outputs": [],
   "source": [
    "def get_proba(supermarket):\n",
    "    probs = []\n",
    "    for day in supermarket:\n",
    "        prob_day = []\n",
    "        for sam in day:\n",
    "            sam['old_location'] = sam['location'].shift(1)\n",
    "            #sam.drop(['shift'], axis=1)\n",
    "            sam = sam.reset_index().groupby(['old_location', 'location'])['timestamp'].count().unstack()\n",
    "            sam = sam.apply(lambda row: row / row.sum(), axis=1)\n",
    "            prob_day.append(sam)\n",
    "        probs.append(prob_day)\n",
    "    return probs"
   ]
  },
  {
   "cell_type": "code",
   "execution_count": null,
   "metadata": {},
   "outputs": [],
   "source": [
    "def get_counts(supermarket):\n",
    "    counts = []\n",
    "    for day in supermarket:\n",
    "        count_day = []\n",
    "        for sam in day:\n",
    "            sam['old_location'] = sam['location'].shift(1)\n",
    "            #sam.drop(['shift'], axis=1)\n",
    "            sam = sam.reset_index().groupby(['old_location', 'location'])['timestamp'].count().unstack()\n",
    "            #sam = sam.apply(lambda row: row / row.sum(), axis=1)\n",
    "            count_day.append(sam)\n",
    "        counts.append(count_day)\n",
    "    return counts"
   ]
  },
  {
   "cell_type": "code",
   "execution_count": null,
   "metadata": {},
   "outputs": [],
   "source": [
    "probs = get_proba(supermarket)"
   ]
  },
  {
   "cell_type": "code",
   "execution_count": null,
   "metadata": {},
   "outputs": [],
   "source": [
    "print(probs[0][2])"
   ]
  },
  {
   "cell_type": "markdown",
   "metadata": {},
   "source": [
    "#### Calculate and visualize the probability of transitions from section A to B by counting all observed transitions."
   ]
  },
  {
   "cell_type": "code",
   "execution_count": null,
   "metadata": {},
   "outputs": [],
   "source": [
    "data = {'spices_old':[0,0,0,0,0], 'dairy_old':[0,0,0,0,0], 'drinks_old':[0,0,0,0,0], 'fruit_old':[0,0,0,0,0]}"
   ]
  },
  {
   "cell_type": "code",
   "execution_count": null,
   "metadata": {},
   "outputs": [],
   "source": [
    "probabilities = pd.DataFrame.from_dict(data, orient='index', columns = ['spices', 'dairy', 'drinks', 'fruit', 'checkout'])"
   ]
  },
  {
   "cell_type": "code",
   "execution_count": null,
   "metadata": {},
   "outputs": [],
   "source": [
    "probabilities"
   ]
  },
  {
   "cell_type": "code",
   "execution_count": null,
   "metadata": {},
   "outputs": [],
   "source": [
    "counts = pd.DataFrame.from_dict(data, orient='index', columns = ['spices', 'dairy', 'drinks', 'fruit', 'checkout'])"
   ]
  },
  {
   "cell_type": "code",
   "execution_count": null,
   "metadata": {},
   "outputs": [],
   "source": [
    "counts"
   ]
  },
  {
   "cell_type": "code",
   "execution_count": null,
   "metadata": {},
   "outputs": [],
   "source": [
    "all_counts = get_counts(supermarket)"
   ]
  },
  {
   "cell_type": "code",
   "execution_count": null,
   "metadata": {
    "scrolled": true
   },
   "outputs": [],
   "source": [
    "all_counts[0][0]"
   ]
  },
  {
   "cell_type": "code",
   "execution_count": null,
   "metadata": {},
   "outputs": [],
   "source": [
    "all_counts1=[]\n",
    "for day in all_counts:\n",
    "    day = pd.concat(day)\n",
    "    all_counts1.append(day)"
   ]
  },
  {
   "cell_type": "code",
   "execution_count": null,
   "metadata": {},
   "outputs": [],
   "source": [
    "all_counts1 = pd.concat(all_counts1)"
   ]
  },
  {
   "cell_type": "code",
   "execution_count": null,
   "metadata": {},
   "outputs": [],
   "source": [
    "all_sum = all_counts1.groupby('old_location').sum()"
   ]
  },
  {
   "cell_type": "code",
   "execution_count": null,
   "metadata": {},
   "outputs": [],
   "source": [
    "all_sum_prob = all_sum.apply(lambda row: row / row.sum(), axis=1)"
   ]
  },
  {
   "cell_type": "markdown",
   "metadata": {},
   "source": [
    "#### Display the transition probability matrix"
   ]
  },
  {
   "cell_type": "code",
   "execution_count": null,
   "metadata": {},
   "outputs": [],
   "source": [
    "all_sum_prob"
   ]
  },
  {
   "cell_type": "code",
   "execution_count": null,
   "metadata": {},
   "outputs": [],
   "source": [
    "all_sum_prob.loc['checkout'] = [1,0,0,0,0]"
   ]
  },
  {
   "cell_type": "code",
   "execution_count": null,
   "metadata": {},
   "outputs": [],
   "source": [
    "all_sum_prob"
   ]
  },
  {
   "cell_type": "code",
   "execution_count": null,
   "metadata": {},
   "outputs": [],
   "source": [
    "all_sum_prob.loc[:,'Total'] = all_sum_prob.sum(axis=1)"
   ]
  },
  {
   "cell_type": "code",
   "execution_count": null,
   "metadata": {},
   "outputs": [],
   "source": [
    "all_sum_prob"
   ]
  },
  {
   "cell_type": "code",
   "execution_count": null,
   "metadata": {},
   "outputs": [],
   "source": [
    "new = sam.loc[(sam['location']=='fruit')]"
   ]
  },
  {
   "cell_type": "code",
   "execution_count": null,
   "metadata": {},
   "outputs": [],
   "source": [
    "new.reset_index()['timestamp']"
   ]
  },
  {
   "cell_type": "code",
   "execution_count": null,
   "metadata": {},
   "outputs": [],
   "source": [
    "all_sum_prob.drop('Total', axis=1, inplace=True)"
   ]
  },
  {
   "cell_type": "code",
   "execution_count": null,
   "metadata": {},
   "outputs": [],
   "source": [
    "all_sum_prob"
   ]
  },
  {
   "cell_type": "code",
   "execution_count": null,
   "metadata": {},
   "outputs": [],
   "source": [
    "LOCATIONS = ['fruit', 'drinks', 'dairy', 'spices', 'checkout']"
   ]
  },
  {
   "cell_type": "code",
   "execution_count": null,
   "metadata": {},
   "outputs": [],
   "source": [
    "PROB = all_sum_prob.to_dict('split')"
   ]
  },
  {
   "cell_type": "code",
   "execution_count": null,
   "metadata": {},
   "outputs": [],
   "source": [
    "PROB.pop('columns', None)"
   ]
  },
  {
   "cell_type": "code",
   "execution_count": null,
   "metadata": {},
   "outputs": [],
   "source": [
    "PROB = dict(zip(PROB['index'], PROB['data']))"
   ]
  },
  {
   "cell_type": "code",
   "execution_count": null,
   "metadata": {},
   "outputs": [],
   "source": [
    "PROB"
   ]
  },
  {
   "cell_type": "code",
   "execution_count": null,
   "metadata": {},
   "outputs": [],
   "source": [
    "import random"
   ]
  },
  {
   "cell_type": "code",
   "execution_count": null,
   "metadata": {},
   "outputs": [],
   "source": [
    "class _Customer:\n",
    "    \n",
    "    def __init__(self, ci_d):\n",
    "        self.ci_d = ci_d\n",
    "        self.location = location #self.get_first()\n",
    "        \n",
    "    def __repr__(self):\n",
    "        return f'{self.ci_d}, {self.location}, {self.checked_out}'\n",
    "    \n",
    "    \"\"\"def get_first(self):\n",
    "        return 'entrance'\"\"\"\n",
    "    \n",
    "    @property\n",
    "    def checked_out(self):\n",
    "        if self.location == 'checkout':\n",
    "            return True\n",
    "        else:\n",
    "            return False\n",
    "        \n",
    "    def move(self):\n",
    "        loc = random.choices(LOCATIONS)\n",
    "        loc = loc[0]\n",
    "        prob_loc = random.choices(LOCATIONS, PROB[loc])\n",
    "        self.location = prob_loc[0]\n",
    "        \"\"\"self.location = random.choices(LOCATIONS)\n",
    "        self.location = random.choices(self.location, PROB[self.location])\n",
    "        self.location = self.location[0]\"\"\""
   ]
  },
  {
   "cell_type": "code",
   "execution_count": null,
   "metadata": {},
   "outputs": [],
   "source": [
    "c = _Customer(1)"
   ]
  },
  {
   "cell_type": "code",
   "execution_count": null,
   "metadata": {},
   "outputs": [],
   "source": [
    "c"
   ]
  },
  {
   "cell_type": "markdown",
   "metadata": {},
   "source": [
    "### Simlulating the movement of a hypothetical customer"
   ]
  },
  {
   "cell_type": "code",
   "execution_count": null,
   "metadata": {},
   "outputs": [],
   "source": [
    "while not c.checked_out:\n",
    "    c.move()\n",
    "    print(c)"
   ]
  },
  {
   "cell_type": "code",
   "execution_count": null,
   "metadata": {},
   "outputs": [],
   "source": [
    "location_last = 'fruit'\n",
    "location = random.choices(LOCATIONS, PROB[location_last])\n",
    "print(location)\n",
    "location_last = location"
   ]
  },
  {
   "cell_type": "code",
   "execution_count": null,
   "metadata": {},
   "outputs": [],
   "source": [
    "population = [_Customer(i) for i in range(100)]"
   ]
  },
  {
   "cell_type": "code",
   "execution_count": null,
   "metadata": {},
   "outputs": [],
   "source": [
    "for pop in population:\n",
    "    while not pop.checked_out:\n",
    "        pop.move()\n",
    "        print(pop)"
   ]
  },
  {
   "cell_type": "code",
   "execution_count": null,
   "metadata": {},
   "outputs": [],
   "source": []
  }
 ],
 "metadata": {
  "kernelspec": {
   "display_name": "Python 3",
   "language": "python",
   "name": "python3"
  },
  "language_info": {
   "codemirror_mode": {
    "name": "ipython",
    "version": 3
   },
   "file_extension": ".py",
   "mimetype": "text/x-python",
   "name": "python",
   "nbconvert_exporter": "python",
   "pygments_lexer": "ipython3",
   "version": "3.7.3"
  }
 },
 "nbformat": 4,
 "nbformat_minor": 2
}
